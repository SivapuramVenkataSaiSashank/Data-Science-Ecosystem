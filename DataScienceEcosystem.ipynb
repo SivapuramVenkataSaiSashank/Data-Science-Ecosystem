{
 "cells": [
  {
   "cell_type": "markdown",
   "id": "5af59f16-c4ab-4dd7-be2c-4c3415c64ab1",
   "metadata": {},
   "source": [
    "<h1>Data Science Tools and Ecosystem</h1>"
   ]
  },
  {
   "cell_type": "markdown",
   "id": "62f9ed26-f263-455e-83c4-4fac6348b787",
   "metadata": {},
   "source": [
    "<p style = \"font-weight:bold;\">In this notebook, Data Science Tools and Ecosystems are summarized.</p>"
   ]
  },
  {
   "cell_type": "markdown",
   "id": "bc7fea71-badc-444a-b4c9-19ddb9a49e77",
   "metadata": {},
   "source": [
    "<p style=\"font-weight:bold;\">Some of the popular languages that Data Scientists use are:</p>\n",
    "\n",
    "<ol>\n",
    "  <li>Python</li>\n",
    "  <li>R</li>\n",
    "  <li>SQL</li>\n",
    "  <li>Java</li>\n",
    "  <li>Julia</li>\n",
    "</ol>\n"
   ]
  },
  {
   "cell_type": "markdown",
   "id": "866a2356-d7d8-4ab4-9af7-2a6d6372b630",
   "metadata": {},
   "source": [
    "<p style=\"font-weight:bold;\">Some of the commonly used libraries used by Data Scientists include:</p>\n",
    "\n",
    "<ol>\n",
    "  <li>NumPy</li>\n",
    "  <li>Pandas</li>\n",
    "  <li>Matplotlib</li>\n",
    "  <li>Scikit-learn</li>\n",
    "  <li>TensorFlow</li>\n",
    "</ol>\n"
   ]
  },
  {
   "cell_type": "markdown",
   "id": "f82899c7-d8cb-4479-80cc-386312cb0aad",
   "metadata": {},
   "source": [
    "| Data Science Tools     |\n",
    "|------------------------|\n",
    "| Jupyter Notebook       |\n",
    "| RStudio                |\n",
    "| IBM Watson Studio      |\n"
   ]
  },
  {
   "cell_type": "markdown",
   "id": "ab789860-c991-446c-bb57-726f5267a542",
   "metadata": {},
   "source": [
    "### Below are a few examples of evaluting arithmetic expression in Python:"
   ]
  },
  {
   "cell_type": "code",
   "execution_count": 1,
   "id": "2a4e6682-6154-4f6a-9045-166b0fc1cae8",
   "metadata": {},
   "outputs": [
    {
     "name": "stdout",
     "output_type": "stream",
     "text": [
      "17\n"
     ]
    }
   ],
   "source": [
    "#This is a simple arithmetic expression to multiply then add integers\n",
    "a=3\n",
    "b=4\n",
    "c=5\n",
    "d=a*b\n",
    "e=d+c\n",
    "print(e)"
   ]
  },
  {
   "cell_type": "code",
   "execution_count": 2,
   "id": "75284a79-8e22-4a22-8347-a43df0e8f724",
   "metadata": {},
   "outputs": [
    {
     "name": "stdout",
     "output_type": "stream",
     "text": [
      "3.3333333333333335\n"
     ]
    }
   ],
   "source": [
    "#This will convert 200 minutes to hours by diving by 60\n",
    "minutes = 200\n",
    "hours = float(minutes/60)\n",
    "print(hours)"
   ]
  },
  {
   "cell_type": "markdown",
   "id": "c8bd95c1-ab72-445c-8b47-60f097c07cc6",
   "metadata": {},
   "source": [
    "**Objectives:**\n",
    "\n",
    "- List popular languages for Data Science  \n",
    "- Identify commonly used Data Science libraries  \n",
    "- Describe popular Data Science tools  \n",
    "- Evaluate basic arithmetic expressions in Python  \n",
    "- Convert values between units using Python code\n"
   ]
  },
  {
   "cell_type": "markdown",
   "id": "f23a76a5-0f3f-4a80-b76d-b011780a06ad",
   "metadata": {},
   "source": [
    "## Author\n",
    "\n",
    "Sivapuram Venkata Sai Sashank"
   ]
  }
 ],
 "metadata": {
  "kernelspec": {
   "display_name": "Python 3 (ipykernel)",
   "language": "python",
   "name": "python3"
  },
  "language_info": {
   "codemirror_mode": {
    "name": "ipython",
    "version": 3
   },
   "file_extension": ".py",
   "mimetype": "text/x-python",
   "name": "python",
   "nbconvert_exporter": "python",
   "pygments_lexer": "ipython3",
   "version": "3.12.10"
  }
 },
 "nbformat": 4,
 "nbformat_minor": 5
}
